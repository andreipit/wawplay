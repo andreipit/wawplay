{
 "cells": [
  {
   "cell_type": "code",
   "execution_count": 1,
   "metadata": {},
   "outputs": [
    {
     "name": "stdout",
     "output_type": "stream",
     "text": [
      "Looking in indexes: https://test.pypi.org/simple/\n",
      "Collecting wawplay==0.0.2\n",
      "  Downloading https://test-files.pythonhosted.org/packages/62/53/06e72cf926c2f88d899d4124209110002d5efe77b12540945a2d65daf6ac/wawplay-0.0.2-py3-none-any.whl (3.3 kB)\n",
      "Requirement already satisfied: scikit-learn>=0.22.1 in d:\\progs\\conda\\cvenv04_default\\lib\\site-packages (from wawplay==0.0.2) (0.23.1)\n",
      "Requirement already satisfied: numpy>=1.13.3 in d:\\progs\\conda\\cvenv04_default\\lib\\site-packages (from scikit-learn>=0.22.1->wawplay==0.0.2) (1.18.4)\n",
      "Requirement already satisfied: threadpoolctl>=2.0.0 in d:\\progs\\conda\\cvenv04_default\\lib\\site-packages (from scikit-learn>=0.22.1->wawplay==0.0.2) (2.0.0)\n",
      "Requirement already satisfied: scipy>=0.19.1 in d:\\progs\\conda\\cvenv04_default\\lib\\site-packages (from scikit-learn>=0.22.1->wawplay==0.0.2) (1.4.1)\n",
      "Requirement already satisfied: joblib>=0.11 in d:\\progs\\conda\\cvenv04_default\\lib\\site-packages (from scikit-learn>=0.22.1->wawplay==0.0.2) (0.15.1)\n",
      "Installing collected packages: wawplay\n",
      "Successfully installed wawplay-0.0.2\n"
     ]
    }
   ],
   "source": [
    "!pip install -i https://test.pypi.org/simple/ wawplay==0.0.2"
   ]
  },
  {
   "cell_type": "code",
   "execution_count": 3,
   "metadata": {},
   "outputs": [
    {
     "name": "stdout",
     "output_type": "stream",
     "text": [
      "engine training data_loader= train_loader\n",
      "example ended\n"
     ]
    }
   ],
   "source": [
    "import os\n",
    "\n",
    "import pandas as pd\n",
    "import numpy as np\n",
    "\n",
    "#import albumentations\n",
    "import argparse\n",
    "import torch\n",
    "import torchvision\n",
    "import torch.nn as nn\n",
    "import torch.nn.functional as F\n",
    "\n",
    "from sklearn import metrics\n",
    "from sklearn.model_selection import train_test_split\n",
    "\n",
    "from wawplay.engine import Engine\n",
    "\n",
    "\n",
    "class DenseCrossEntropy(nn.Module):\n",
    "    # Taken from: https://www.kaggle.com/pestipeti/plant-pathology-2020-pytorch\n",
    "    def __init__(self):\n",
    "        super(DenseCrossEntropy, self).__init__()\n",
    "\n",
    "    def forward(self, logits, labels):\n",
    "        return 0\n",
    "\n",
    "\n",
    "class Model(nn.Module):\n",
    "    def __init__(self):\n",
    "        super().__init__()\n",
    "        self.base_model = torchvision.models.resnet18(pretrained=True)\n",
    "\n",
    "    def forward(self, image, targets=None):\n",
    "        return 999\n",
    "\n",
    "\n",
    "#if __name__ == \"__main__\":\n",
    "# parser = argparse.ArgumentParser()\n",
    "# parser.add_argument(\n",
    "#     \"--data_path\", type=str,\n",
    "# )\n",
    "# parser.add_argument(\n",
    "#     \"--device\", type=str,\n",
    "# )\n",
    "# parser.add_argument(\n",
    "#     \"--epochs\", type=int,\n",
    "# )\n",
    "# args = parser.parse_args()\n",
    "\n",
    "\n",
    "Engine.train(\"train_loader\")\n",
    "print(\"example ended\")"
   ]
  },
  {
   "cell_type": "code",
   "execution_count": null,
   "metadata": {},
   "outputs": [],
   "source": []
  }
 ],
 "metadata": {
  "kernelspec": {
   "display_name": "Python 3",
   "language": "python",
   "name": "python3"
  },
  "language_info": {
   "codemirror_mode": {
    "name": "ipython",
    "version": 3
   },
   "file_extension": ".py",
   "mimetype": "text/x-python",
   "name": "python",
   "nbconvert_exporter": "python",
   "pygments_lexer": "ipython3",
   "version": "3.8.3"
  }
 },
 "nbformat": 4,
 "nbformat_minor": 4
}
